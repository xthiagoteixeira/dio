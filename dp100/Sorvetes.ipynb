{
 "cells": [
  {
   "cell_type": "code",
   "execution_count": null,
   "id": "dcf48b70-f7f4-41c2-b80e-57ba13137455",
   "metadata": {},
   "outputs": [],
   "source": [
    "# Import necessary libraries\n",
    "import pandas as pd\n",
    "import numpy as np\n",
    "from sklearn.model_selection import train_test_split\n",
    "from sklearn.linear_model import LogisticRegression\n",
    "from sklearn.metrics import roc_auc_score, roc_curve\n",
    "\n",
    "# Load the sorvetes dataset\n",
    "print(\"Loading Data...\")\n",
    "sorvetes = pd.read_csv('sorvetes.csv')\n",
    "\n",
    "# Separate features and labels\n",
    "X, y = sorvetes[['Temperatura']].values, sorvetes['Vendas'].values\n",
    "\n",
    "# Split data into training set and test set\n",
    "X_train, X_test, y_train, y_test = train_test_split(X, y, test_size=0.20, random_state=0)\n",
    "\n",
    "# Set regularization hyperparameter\n",
    "reg = 0.01\n",
    "\n",
    "# Train a logistic regression model\n",
    "print(f\"Training a logistic regression model with regularization rate of {reg}\")\n",
    "model = LogisticRegression(C=1/reg, solver=\"liblinear\").fit(X_train, y_train)\n",
    "\n",
    "# Calculate accuracy\n",
    "y_hat = model.predict(X_test)\n",
    "acc = np.average(y_hat == y_test)\n",
    "print(\"Accuracy:\", acc)\n",
    "\n",
    "# Calculate AUC\n",
    "y_scores = model.predict_proba(X_test)\n",
    "auc = roc_auc_score(y_test, y_scores[:, 1])\n",
    "print(\"AUC:\", str(auc))\n",
    "\n",
    "# Submit job to Azure ML\n",
    "from azure.ai.ml import command\n",
    "\n",
    "# Configure job settings\n",
    "job = command(\n",
    "    code=\"./src\",\n",
    "    command=\"python sorvetes-training.py\",\n",
    "    environment=\"AzureML-sklearn-0.24-ubuntu18.04-py37-cpu@latest\",\n",
    "    compute=\"aml-cluster\",\n",
    "    display_name=\"sorvetes-pythonv2-train\",\n",
    "    experiment_name=\"sorvetes-training\"\n",
    ")\n",
    "\n",
    "# Submit job to Azure ML workspace\n",
    "returned_job = ml_client.create_or_update(job)\n",
    "aml_url = returned_job.studio_url\n",
    "print(\"Monitor your job at\", aml_url)\n"
   ]
  }
 ],
 "metadata": {
  "kernelspec": {
   "display_name": "Python 3 (ipykernel)",
   "language": "python",
   "name": "python3"
  },
  "language_info": {
   "codemirror_mode": {
    "name": "ipython",
    "version": 3
   },
   "file_extension": ".py",
   "mimetype": "text/x-python",
   "name": "python",
   "nbconvert_exporter": "python",
   "pygments_lexer": "ipython3",
   "version": "3.11.7"
  }
 },
 "nbformat": 4,
 "nbformat_minor": 5
}
